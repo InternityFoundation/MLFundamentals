import pandas as pd
balance_data = pd.read_csv(
'https://archive.ics.uci.edu/ml/machine-learning-databases/balance-scale/balance-scale.data', sep= ',', header= None)
print "Dataset Lenght:: ", len(balance_data)
print "Dataset Shape:: ", balance_data.shape
Dataset Lenght::  625
Dataset Shape::  (625, 5)
print "Dataset:: "
balance_data.head()
X = balance_data.values[:, 1:5]
Y = balance_data.values[:,0]
X_train, X_test, y_train, y_test = train_test_split( X, Y, test_size = 0.3, random_state = 100)
clf_gini = DecisionTreeClassifier(criterion = "gini", random_state = 100,max_depth=3, min_samples_leaf=5)
clf_gini.fit(X_train, y_train)

